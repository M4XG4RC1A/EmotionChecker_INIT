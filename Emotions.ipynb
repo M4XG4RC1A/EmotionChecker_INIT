{
 "cells": [
  {
   "cell_type": "markdown",
   "id": "4921c7f3",
   "metadata": {},
   "source": [
    "# State Checker"
   ]
  },
  {
   "cell_type": "code",
   "execution_count": 14,
   "id": "53abaa18",
   "metadata": {},
   "outputs": [],
   "source": [
    "import pandas as pd\n",
    "import ipywidgets as widgets\n",
    "Ingredients = []\n",
    "data = pd.read_csv(\"Emotions.csv\")\n",
    "nVariables = data.columns.values"
   ]
  },
  {
   "cell_type": "markdown",
   "id": "628f9460",
   "metadata": {},
   "source": [
    "## Insert Phrase for check state"
   ]
  },
  {
   "cell_type": "code",
   "execution_count": 15,
   "id": "59b2aa0b",
   "metadata": {
    "scrolled": true
   },
   "outputs": [
    {
     "data": {
      "application/vnd.jupyter.widget-view+json": {
       "model_id": "c7ccb654c653409ab3b7efb89f170af8",
       "version_major": 2,
       "version_minor": 0
      },
      "text/plain": [
       "Text(value='')"
      ]
     },
     "metadata": {},
     "output_type": "display_data"
    },
    {
     "data": {
      "application/vnd.jupyter.widget-view+json": {
       "model_id": "eccfd9aa84d14294acbcc670fb077fa0",
       "version_major": 2,
       "version_minor": 0
      },
      "text/plain": [
       "Button(description='Check State', style=ButtonStyle())"
      ]
     },
     "metadata": {},
     "output_type": "display_data"
    },
    {
     "data": {
      "application/vnd.jupyter.widget-view+json": {
       "model_id": "5fb5b9f4e01a4f7c91760898149669d2",
       "version_major": 2,
       "version_minor": 0
      },
      "text/plain": [
       "Text(value='', disabled=True)"
      ]
     },
     "metadata": {},
     "output_type": "display_data"
    }
   ],
   "source": [
    "def viewEmotion(b):\n",
    "    good = data['Good'].dropna().values.tolist()\n",
    "    bad = data['Bad'].dropna().values.tolist()\n",
    "    state = \"\"\n",
    "    ph = phrase.value\n",
    "    contradict = {\"Good\":\"Bad\",\"Bad\":\"Good\",\"\":\"\"}\n",
    "    stateDict = {\"Good\":\"Happy\",\"Bad\":\"Sad\"}\n",
    "    words = ph.split(' ')\n",
    "    for n in good:\n",
    "        for w in words:\n",
    "            if n.upper()==w.upper():\n",
    "                state = \"Good\"\n",
    "    for n in bad:\n",
    "        for w in words:\n",
    "            if n.upper()==w.upper():\n",
    "                state = \"Bad\"\n",
    "    for w in words:\n",
    "        if w.upper()==\"NO\":\n",
    "            state = contradict[state]\n",
    "    if state == \"\":\n",
    "        state = \"No common state\"\n",
    "    else:\n",
    "        state = state + \" or \" + stateDict[state]\n",
    "    st.value = \"State: \"+state\n",
    "phrase = widgets.Text(value='',disabled=False);\n",
    "display(phrase)\n",
    "button = widgets.Button(description=\"Check State\")\n",
    "display(button)\n",
    "st = widgets.Text(value='',disabled=True);\n",
    "display(st)\n",
    "button.on_click(viewEmotion)"
   ]
  }
 ],
 "metadata": {
  "kernelspec": {
   "display_name": "Python 3",
   "language": "python",
   "name": "python3"
  },
  "language_info": {
   "codemirror_mode": {
    "name": "ipython",
    "version": 3
   },
   "file_extension": ".py",
   "mimetype": "text/x-python",
   "name": "python",
   "nbconvert_exporter": "python",
   "pygments_lexer": "ipython3",
   "version": "3.8.8"
  }
 },
 "nbformat": 4,
 "nbformat_minor": 5
}
